{
 "cells": [
  {
   "cell_type": "code",
   "execution_count": 1,
   "id": "29cad189",
   "metadata": {
    "execution": {
     "iopub.execute_input": "2023-10-30T09:28:51.243792Z",
     "iopub.status.busy": "2023-10-30T09:28:51.242933Z",
     "iopub.status.idle": "2023-10-30T09:28:53.831449Z",
     "shell.execute_reply": "2023-10-30T09:28:53.830342Z"
    },
    "papermill": {
     "duration": 2.600582,
     "end_time": "2023-10-30T09:28:53.834077",
     "exception": false,
     "start_time": "2023-10-30T09:28:51.233495",
     "status": "completed"
    },
    "tags": []
   },
   "outputs": [
    {
     "data": {
      "text/html": [
       "<div>\n",
       "<style scoped>\n",
       "    .dataframe tbody tr th:only-of-type {\n",
       "        vertical-align: middle;\n",
       "    }\n",
       "\n",
       "    .dataframe tbody tr th {\n",
       "        vertical-align: top;\n",
       "    }\n",
       "\n",
       "    .dataframe thead th {\n",
       "        text-align: right;\n",
       "    }\n",
       "</style>\n",
       "<table border=\"1\" class=\"dataframe\">\n",
       "  <thead>\n",
       "    <tr style=\"text-align: right;\">\n",
       "      <th></th>\n",
       "      <th>rank</th>\n",
       "      <th>finalWorth</th>\n",
       "      <th>category</th>\n",
       "      <th>personName</th>\n",
       "      <th>age</th>\n",
       "      <th>country</th>\n",
       "      <th>city</th>\n",
       "      <th>source</th>\n",
       "      <th>industries</th>\n",
       "      <th>countryOfCitizenship</th>\n",
       "      <th>...</th>\n",
       "      <th>cpi_change_country</th>\n",
       "      <th>gdp_country</th>\n",
       "      <th>gross_tertiary_education_enrollment</th>\n",
       "      <th>gross_primary_education_enrollment_country</th>\n",
       "      <th>life_expectancy_country</th>\n",
       "      <th>tax_revenue_country_country</th>\n",
       "      <th>total_tax_rate_country</th>\n",
       "      <th>population_country</th>\n",
       "      <th>latitude_country</th>\n",
       "      <th>longitude_country</th>\n",
       "    </tr>\n",
       "  </thead>\n",
       "  <tbody>\n",
       "    <tr>\n",
       "      <th>0</th>\n",
       "      <td>1</td>\n",
       "      <td>211000</td>\n",
       "      <td>Fashion &amp; Retail</td>\n",
       "      <td>Bernard Arnault &amp; family</td>\n",
       "      <td>74.0</td>\n",
       "      <td>France</td>\n",
       "      <td>Paris</td>\n",
       "      <td>LVMH</td>\n",
       "      <td>Fashion &amp; Retail</td>\n",
       "      <td>France</td>\n",
       "      <td>...</td>\n",
       "      <td>1.1</td>\n",
       "      <td>$2,715,518,274,227</td>\n",
       "      <td>65.6</td>\n",
       "      <td>102.5</td>\n",
       "      <td>82.5</td>\n",
       "      <td>24.2</td>\n",
       "      <td>60.7</td>\n",
       "      <td>6.705989e+07</td>\n",
       "      <td>46.227638</td>\n",
       "      <td>2.213749</td>\n",
       "    </tr>\n",
       "    <tr>\n",
       "      <th>1</th>\n",
       "      <td>2</td>\n",
       "      <td>180000</td>\n",
       "      <td>Automotive</td>\n",
       "      <td>Elon Musk</td>\n",
       "      <td>51.0</td>\n",
       "      <td>United States</td>\n",
       "      <td>Austin</td>\n",
       "      <td>Tesla, SpaceX</td>\n",
       "      <td>Automotive</td>\n",
       "      <td>United States</td>\n",
       "      <td>...</td>\n",
       "      <td>7.5</td>\n",
       "      <td>$21,427,700,000,000</td>\n",
       "      <td>88.2</td>\n",
       "      <td>101.8</td>\n",
       "      <td>78.5</td>\n",
       "      <td>9.6</td>\n",
       "      <td>36.6</td>\n",
       "      <td>3.282395e+08</td>\n",
       "      <td>37.090240</td>\n",
       "      <td>-95.712891</td>\n",
       "    </tr>\n",
       "    <tr>\n",
       "      <th>2</th>\n",
       "      <td>3</td>\n",
       "      <td>114000</td>\n",
       "      <td>Technology</td>\n",
       "      <td>Jeff Bezos</td>\n",
       "      <td>59.0</td>\n",
       "      <td>United States</td>\n",
       "      <td>Medina</td>\n",
       "      <td>Amazon</td>\n",
       "      <td>Technology</td>\n",
       "      <td>United States</td>\n",
       "      <td>...</td>\n",
       "      <td>7.5</td>\n",
       "      <td>$21,427,700,000,000</td>\n",
       "      <td>88.2</td>\n",
       "      <td>101.8</td>\n",
       "      <td>78.5</td>\n",
       "      <td>9.6</td>\n",
       "      <td>36.6</td>\n",
       "      <td>3.282395e+08</td>\n",
       "      <td>37.090240</td>\n",
       "      <td>-95.712891</td>\n",
       "    </tr>\n",
       "    <tr>\n",
       "      <th>3</th>\n",
       "      <td>4</td>\n",
       "      <td>107000</td>\n",
       "      <td>Technology</td>\n",
       "      <td>Larry Ellison</td>\n",
       "      <td>78.0</td>\n",
       "      <td>United States</td>\n",
       "      <td>Lanai</td>\n",
       "      <td>Oracle</td>\n",
       "      <td>Technology</td>\n",
       "      <td>United States</td>\n",
       "      <td>...</td>\n",
       "      <td>7.5</td>\n",
       "      <td>$21,427,700,000,000</td>\n",
       "      <td>88.2</td>\n",
       "      <td>101.8</td>\n",
       "      <td>78.5</td>\n",
       "      <td>9.6</td>\n",
       "      <td>36.6</td>\n",
       "      <td>3.282395e+08</td>\n",
       "      <td>37.090240</td>\n",
       "      <td>-95.712891</td>\n",
       "    </tr>\n",
       "    <tr>\n",
       "      <th>4</th>\n",
       "      <td>5</td>\n",
       "      <td>106000</td>\n",
       "      <td>Finance &amp; Investments</td>\n",
       "      <td>Warren Buffett</td>\n",
       "      <td>92.0</td>\n",
       "      <td>United States</td>\n",
       "      <td>Omaha</td>\n",
       "      <td>Berkshire Hathaway</td>\n",
       "      <td>Finance &amp; Investments</td>\n",
       "      <td>United States</td>\n",
       "      <td>...</td>\n",
       "      <td>7.5</td>\n",
       "      <td>$21,427,700,000,000</td>\n",
       "      <td>88.2</td>\n",
       "      <td>101.8</td>\n",
       "      <td>78.5</td>\n",
       "      <td>9.6</td>\n",
       "      <td>36.6</td>\n",
       "      <td>3.282395e+08</td>\n",
       "      <td>37.090240</td>\n",
       "      <td>-95.712891</td>\n",
       "    </tr>\n",
       "    <tr>\n",
       "      <th>5</th>\n",
       "      <td>6</td>\n",
       "      <td>104000</td>\n",
       "      <td>Technology</td>\n",
       "      <td>Bill Gates</td>\n",
       "      <td>67.0</td>\n",
       "      <td>United States</td>\n",
       "      <td>Medina</td>\n",
       "      <td>Microsoft</td>\n",
       "      <td>Technology</td>\n",
       "      <td>United States</td>\n",
       "      <td>...</td>\n",
       "      <td>7.5</td>\n",
       "      <td>$21,427,700,000,000</td>\n",
       "      <td>88.2</td>\n",
       "      <td>101.8</td>\n",
       "      <td>78.5</td>\n",
       "      <td>9.6</td>\n",
       "      <td>36.6</td>\n",
       "      <td>3.282395e+08</td>\n",
       "      <td>37.090240</td>\n",
       "      <td>-95.712891</td>\n",
       "    </tr>\n",
       "    <tr>\n",
       "      <th>6</th>\n",
       "      <td>7</td>\n",
       "      <td>94500</td>\n",
       "      <td>Media &amp; Entertainment</td>\n",
       "      <td>Michael Bloomberg</td>\n",
       "      <td>81.0</td>\n",
       "      <td>United States</td>\n",
       "      <td>New York</td>\n",
       "      <td>Bloomberg LP</td>\n",
       "      <td>Media &amp; Entertainment</td>\n",
       "      <td>United States</td>\n",
       "      <td>...</td>\n",
       "      <td>7.5</td>\n",
       "      <td>$21,427,700,000,000</td>\n",
       "      <td>88.2</td>\n",
       "      <td>101.8</td>\n",
       "      <td>78.5</td>\n",
       "      <td>9.6</td>\n",
       "      <td>36.6</td>\n",
       "      <td>3.282395e+08</td>\n",
       "      <td>37.090240</td>\n",
       "      <td>-95.712891</td>\n",
       "    </tr>\n",
       "    <tr>\n",
       "      <th>7</th>\n",
       "      <td>8</td>\n",
       "      <td>93000</td>\n",
       "      <td>Telecom</td>\n",
       "      <td>Carlos Slim Helu &amp; family</td>\n",
       "      <td>83.0</td>\n",
       "      <td>Mexico</td>\n",
       "      <td>Mexico City</td>\n",
       "      <td>Telecom</td>\n",
       "      <td>Telecom</td>\n",
       "      <td>Mexico</td>\n",
       "      <td>...</td>\n",
       "      <td>3.6</td>\n",
       "      <td>$1,258,286,717,125</td>\n",
       "      <td>40.2</td>\n",
       "      <td>105.8</td>\n",
       "      <td>75.0</td>\n",
       "      <td>13.1</td>\n",
       "      <td>55.1</td>\n",
       "      <td>1.260140e+08</td>\n",
       "      <td>23.634501</td>\n",
       "      <td>-102.552784</td>\n",
       "    </tr>\n",
       "    <tr>\n",
       "      <th>8</th>\n",
       "      <td>9</td>\n",
       "      <td>83400</td>\n",
       "      <td>Diversified</td>\n",
       "      <td>Mukesh Ambani</td>\n",
       "      <td>65.0</td>\n",
       "      <td>India</td>\n",
       "      <td>Mumbai</td>\n",
       "      <td>Diversified</td>\n",
       "      <td>Diversified</td>\n",
       "      <td>India</td>\n",
       "      <td>...</td>\n",
       "      <td>7.7</td>\n",
       "      <td>$2,611,000,000,000</td>\n",
       "      <td>28.1</td>\n",
       "      <td>113.0</td>\n",
       "      <td>69.4</td>\n",
       "      <td>11.2</td>\n",
       "      <td>49.7</td>\n",
       "      <td>1.366418e+09</td>\n",
       "      <td>20.593684</td>\n",
       "      <td>78.962880</td>\n",
       "    </tr>\n",
       "    <tr>\n",
       "      <th>9</th>\n",
       "      <td>10</td>\n",
       "      <td>80700</td>\n",
       "      <td>Technology</td>\n",
       "      <td>Steve Ballmer</td>\n",
       "      <td>67.0</td>\n",
       "      <td>United States</td>\n",
       "      <td>Hunts Point</td>\n",
       "      <td>Microsoft</td>\n",
       "      <td>Technology</td>\n",
       "      <td>United States</td>\n",
       "      <td>...</td>\n",
       "      <td>7.5</td>\n",
       "      <td>$21,427,700,000,000</td>\n",
       "      <td>88.2</td>\n",
       "      <td>101.8</td>\n",
       "      <td>78.5</td>\n",
       "      <td>9.6</td>\n",
       "      <td>36.6</td>\n",
       "      <td>3.282395e+08</td>\n",
       "      <td>37.090240</td>\n",
       "      <td>-95.712891</td>\n",
       "    </tr>\n",
       "  </tbody>\n",
       "</table>\n",
       "<p>10 rows × 35 columns</p>\n",
       "</div>"
      ],
      "text/plain": [
       "   rank  finalWorth               category                 personName   age  \\\n",
       "0     1      211000       Fashion & Retail   Bernard Arnault & family  74.0   \n",
       "1     2      180000             Automotive                  Elon Musk  51.0   \n",
       "2     3      114000             Technology                 Jeff Bezos  59.0   \n",
       "3     4      107000             Technology              Larry Ellison  78.0   \n",
       "4     5      106000  Finance & Investments             Warren Buffett  92.0   \n",
       "5     6      104000             Technology                 Bill Gates  67.0   \n",
       "6     7       94500  Media & Entertainment          Michael Bloomberg  81.0   \n",
       "7     8       93000                Telecom  Carlos Slim Helu & family  83.0   \n",
       "8     9       83400            Diversified              Mukesh Ambani  65.0   \n",
       "9    10       80700             Technology              Steve Ballmer  67.0   \n",
       "\n",
       "         country         city              source             industries  \\\n",
       "0         France        Paris                LVMH       Fashion & Retail   \n",
       "1  United States       Austin       Tesla, SpaceX             Automotive   \n",
       "2  United States       Medina              Amazon             Technology   \n",
       "3  United States        Lanai              Oracle             Technology   \n",
       "4  United States        Omaha  Berkshire Hathaway  Finance & Investments   \n",
       "5  United States       Medina           Microsoft             Technology   \n",
       "6  United States     New York        Bloomberg LP  Media & Entertainment   \n",
       "7         Mexico  Mexico City             Telecom                Telecom   \n",
       "8          India       Mumbai         Diversified            Diversified   \n",
       "9  United States  Hunts Point           Microsoft             Technology   \n",
       "\n",
       "  countryOfCitizenship  ... cpi_change_country           gdp_country  \\\n",
       "0               France  ...                1.1   $2,715,518,274,227    \n",
       "1        United States  ...                7.5  $21,427,700,000,000    \n",
       "2        United States  ...                7.5  $21,427,700,000,000    \n",
       "3        United States  ...                7.5  $21,427,700,000,000    \n",
       "4        United States  ...                7.5  $21,427,700,000,000    \n",
       "5        United States  ...                7.5  $21,427,700,000,000    \n",
       "6        United States  ...                7.5  $21,427,700,000,000    \n",
       "7               Mexico  ...                3.6   $1,258,286,717,125    \n",
       "8                India  ...                7.7   $2,611,000,000,000    \n",
       "9        United States  ...                7.5  $21,427,700,000,000    \n",
       "\n",
       "  gross_tertiary_education_enrollment  \\\n",
       "0                                65.6   \n",
       "1                                88.2   \n",
       "2                                88.2   \n",
       "3                                88.2   \n",
       "4                                88.2   \n",
       "5                                88.2   \n",
       "6                                88.2   \n",
       "7                                40.2   \n",
       "8                                28.1   \n",
       "9                                88.2   \n",
       "\n",
       "  gross_primary_education_enrollment_country life_expectancy_country  \\\n",
       "0                                      102.5                    82.5   \n",
       "1                                      101.8                    78.5   \n",
       "2                                      101.8                    78.5   \n",
       "3                                      101.8                    78.5   \n",
       "4                                      101.8                    78.5   \n",
       "5                                      101.8                    78.5   \n",
       "6                                      101.8                    78.5   \n",
       "7                                      105.8                    75.0   \n",
       "8                                      113.0                    69.4   \n",
       "9                                      101.8                    78.5   \n",
       "\n",
       "  tax_revenue_country_country total_tax_rate_country population_country  \\\n",
       "0                        24.2                   60.7       6.705989e+07   \n",
       "1                         9.6                   36.6       3.282395e+08   \n",
       "2                         9.6                   36.6       3.282395e+08   \n",
       "3                         9.6                   36.6       3.282395e+08   \n",
       "4                         9.6                   36.6       3.282395e+08   \n",
       "5                         9.6                   36.6       3.282395e+08   \n",
       "6                         9.6                   36.6       3.282395e+08   \n",
       "7                        13.1                   55.1       1.260140e+08   \n",
       "8                        11.2                   49.7       1.366418e+09   \n",
       "9                         9.6                   36.6       3.282395e+08   \n",
       "\n",
       "  latitude_country longitude_country  \n",
       "0        46.227638          2.213749  \n",
       "1        37.090240        -95.712891  \n",
       "2        37.090240        -95.712891  \n",
       "3        37.090240        -95.712891  \n",
       "4        37.090240        -95.712891  \n",
       "5        37.090240        -95.712891  \n",
       "6        37.090240        -95.712891  \n",
       "7        23.634501       -102.552784  \n",
       "8        20.593684         78.962880  \n",
       "9        37.090240        -95.712891  \n",
       "\n",
       "[10 rows x 35 columns]"
      ]
     },
     "execution_count": 1,
     "metadata": {},
     "output_type": "execute_result"
    }
   ],
   "source": [
    "import numpy as np, pandas as pd\n",
    "import seaborn as sns\n",
    "import matplotlib.pyplot as plt\n",
    "\n",
    "df = pd.read_csv('Billionaires Statistics Dataset.csv') #Read the csv file\n",
    "df.head(10)"
   ]
  },
  {
   "cell_type": "code",
   "execution_count": 2,
   "id": "e6275bdd",
   "metadata": {
    "execution": {
     "iopub.execute_input": "2023-10-30T09:28:53.918741Z",
     "iopub.status.busy": "2023-10-30T09:28:53.918099Z",
     "iopub.status.idle": "2023-10-30T09:28:53.924037Z",
     "shell.execute_reply": "2023-10-30T09:28:53.922786Z"
    },
    "papermill": {
     "duration": 0.017851,
     "end_time": "2023-10-30T09:28:53.926042",
     "exception": false,
     "start_time": "2023-10-30T09:28:53.908191",
     "status": "completed"
    },
    "tags": []
   },
   "outputs": [
    {
     "name": "stdout",
     "output_type": "stream",
     "text": [
      "Number of rows x columns (2640, 35)\n"
     ]
    }
   ],
   "source": [
    "print(\"Number of rows x columns\", df.shape)"
   ]
  },
  {
   "cell_type": "code",
   "execution_count": 3,
   "id": "5fa50c39",
   "metadata": {
    "execution": {
     "iopub.execute_input": "2023-10-30T09:28:53.944909Z",
     "iopub.status.busy": "2023-10-30T09:28:53.944623Z",
     "iopub.status.idle": "2023-10-30T09:28:53.971783Z",
     "shell.execute_reply": "2023-10-30T09:28:53.970480Z"
    },
    "papermill": {
     "duration": 0.038971,
     "end_time": "2023-10-30T09:28:53.973821",
     "exception": false,
     "start_time": "2023-10-30T09:28:53.934850",
     "status": "completed"
    },
    "tags": []
   },
   "outputs": [
    {
     "name": "stdout",
     "output_type": "stream",
     "text": [
      "<class 'pandas.core.frame.DataFrame'>\n",
      "RangeIndex: 2640 entries, 0 to 2639\n",
      "Data columns (total 35 columns):\n",
      " #   Column                                      Non-Null Count  Dtype  \n",
      "---  ------                                      --------------  -----  \n",
      " 0   rank                                        2640 non-null   int64  \n",
      " 1   finalWorth                                  2640 non-null   int64  \n",
      " 2   category                                    2640 non-null   object \n",
      " 3   personName                                  2640 non-null   object \n",
      " 4   age                                         2575 non-null   float64\n",
      " 5   country                                     2602 non-null   object \n",
      " 6   city                                        2568 non-null   object \n",
      " 7   source                                      2640 non-null   object \n",
      " 8   industries                                  2640 non-null   object \n",
      " 9   countryOfCitizenship                        2640 non-null   object \n",
      " 10  organization                                325 non-null    object \n",
      " 11  selfMade                                    2640 non-null   bool   \n",
      " 12  status                                      2640 non-null   object \n",
      " 13  gender                                      2640 non-null   object \n",
      " 14  birthDate                                   2564 non-null   object \n",
      " 15  lastName                                    2640 non-null   object \n",
      " 16  firstName                                   2637 non-null   object \n",
      " 17  title                                       339 non-null    object \n",
      " 18  date                                        2640 non-null   object \n",
      " 19  state                                       753 non-null    object \n",
      " 20  residenceStateRegion                        747 non-null    object \n",
      " 21  birthYear                                   2564 non-null   float64\n",
      " 22  birthMonth                                  2564 non-null   float64\n",
      " 23  birthDay                                    2564 non-null   float64\n",
      " 24  cpi_country                                 2456 non-null   float64\n",
      " 25  cpi_change_country                          2456 non-null   float64\n",
      " 26  gdp_country                                 2476 non-null   object \n",
      " 27  gross_tertiary_education_enrollment         2458 non-null   float64\n",
      " 28  gross_primary_education_enrollment_country  2459 non-null   float64\n",
      " 29  life_expectancy_country                     2458 non-null   float64\n",
      " 30  tax_revenue_country_country                 2457 non-null   float64\n",
      " 31  total_tax_rate_country                      2458 non-null   float64\n",
      " 32  population_country                          2476 non-null   float64\n",
      " 33  latitude_country                            2476 non-null   float64\n",
      " 34  longitude_country                           2476 non-null   float64\n",
      "dtypes: bool(1), float64(14), int64(2), object(18)\n",
      "memory usage: 704.0+ KB\n"
     ]
    }
   ],
   "source": [
    "df.info() #check data type"
   ]
  },
  {
   "cell_type": "code",
   "execution_count": 4,
   "id": "6c7eaa74",
   "metadata": {
    "execution": {
     "iopub.execute_input": "2023-10-30T09:28:53.993561Z",
     "iopub.status.busy": "2023-10-30T09:28:53.992806Z",
     "iopub.status.idle": "2023-10-30T09:28:54.041954Z",
     "shell.execute_reply": "2023-10-30T09:28:54.040987Z"
    },
    "papermill": {
     "duration": 0.061269,
     "end_time": "2023-10-30T09:28:54.044186",
     "exception": false,
     "start_time": "2023-10-30T09:28:53.982917",
     "status": "completed"
    },
    "tags": []
   },
   "outputs": [
    {
     "data": {
      "text/html": [
       "<div>\n",
       "<style scoped>\n",
       "    .dataframe tbody tr th:only-of-type {\n",
       "        vertical-align: middle;\n",
       "    }\n",
       "\n",
       "    .dataframe tbody tr th {\n",
       "        vertical-align: top;\n",
       "    }\n",
       "\n",
       "    .dataframe thead th {\n",
       "        text-align: right;\n",
       "    }\n",
       "</style>\n",
       "<table border=\"1\" class=\"dataframe\">\n",
       "  <thead>\n",
       "    <tr style=\"text-align: right;\">\n",
       "      <th></th>\n",
       "      <th>count</th>\n",
       "      <th>mean</th>\n",
       "      <th>std</th>\n",
       "      <th>min</th>\n",
       "      <th>25%</th>\n",
       "      <th>50%</th>\n",
       "      <th>75%</th>\n",
       "      <th>max</th>\n",
       "    </tr>\n",
       "  </thead>\n",
       "  <tbody>\n",
       "    <tr>\n",
       "      <th>rank</th>\n",
       "      <td>2640.0</td>\n",
       "      <td>1.289159e+03</td>\n",
       "      <td>7.396937e+02</td>\n",
       "      <td>1.000000</td>\n",
       "      <td>6.590000e+02</td>\n",
       "      <td>1.312000e+03</td>\n",
       "      <td>1.905000e+03</td>\n",
       "      <td>2.540000e+03</td>\n",
       "    </tr>\n",
       "    <tr>\n",
       "      <th>finalWorth</th>\n",
       "      <td>2640.0</td>\n",
       "      <td>4.623788e+03</td>\n",
       "      <td>9.834241e+03</td>\n",
       "      <td>1000.000000</td>\n",
       "      <td>1.500000e+03</td>\n",
       "      <td>2.300000e+03</td>\n",
       "      <td>4.200000e+03</td>\n",
       "      <td>2.110000e+05</td>\n",
       "    </tr>\n",
       "    <tr>\n",
       "      <th>age</th>\n",
       "      <td>2575.0</td>\n",
       "      <td>6.514019e+01</td>\n",
       "      <td>1.325810e+01</td>\n",
       "      <td>18.000000</td>\n",
       "      <td>5.600000e+01</td>\n",
       "      <td>6.500000e+01</td>\n",
       "      <td>7.500000e+01</td>\n",
       "      <td>1.010000e+02</td>\n",
       "    </tr>\n",
       "    <tr>\n",
       "      <th>birthYear</th>\n",
       "      <td>2564.0</td>\n",
       "      <td>1.957183e+03</td>\n",
       "      <td>1.328252e+01</td>\n",
       "      <td>1921.000000</td>\n",
       "      <td>1.948000e+03</td>\n",
       "      <td>1.957000e+03</td>\n",
       "      <td>1.966000e+03</td>\n",
       "      <td>2.004000e+03</td>\n",
       "    </tr>\n",
       "    <tr>\n",
       "      <th>birthMonth</th>\n",
       "      <td>2564.0</td>\n",
       "      <td>5.740250e+00</td>\n",
       "      <td>3.710085e+00</td>\n",
       "      <td>1.000000</td>\n",
       "      <td>2.000000e+00</td>\n",
       "      <td>6.000000e+00</td>\n",
       "      <td>9.000000e+00</td>\n",
       "      <td>1.200000e+01</td>\n",
       "    </tr>\n",
       "    <tr>\n",
       "      <th>birthDay</th>\n",
       "      <td>2564.0</td>\n",
       "      <td>1.209984e+01</td>\n",
       "      <td>9.918876e+00</td>\n",
       "      <td>1.000000</td>\n",
       "      <td>1.000000e+00</td>\n",
       "      <td>1.100000e+01</td>\n",
       "      <td>2.100000e+01</td>\n",
       "      <td>3.100000e+01</td>\n",
       "    </tr>\n",
       "    <tr>\n",
       "      <th>cpi_country</th>\n",
       "      <td>2456.0</td>\n",
       "      <td>1.277552e+02</td>\n",
       "      <td>2.645295e+01</td>\n",
       "      <td>99.550000</td>\n",
       "      <td>1.172400e+02</td>\n",
       "      <td>1.172400e+02</td>\n",
       "      <td>1.250800e+02</td>\n",
       "      <td>2.885700e+02</td>\n",
       "    </tr>\n",
       "    <tr>\n",
       "      <th>cpi_change_country</th>\n",
       "      <td>2456.0</td>\n",
       "      <td>4.364169e+00</td>\n",
       "      <td>3.623763e+00</td>\n",
       "      <td>-1.900000</td>\n",
       "      <td>1.700000e+00</td>\n",
       "      <td>2.900000e+00</td>\n",
       "      <td>7.500000e+00</td>\n",
       "      <td>5.350000e+01</td>\n",
       "    </tr>\n",
       "    <tr>\n",
       "      <th>gross_tertiary_education_enrollment</th>\n",
       "      <td>2458.0</td>\n",
       "      <td>6.722567e+01</td>\n",
       "      <td>2.134343e+01</td>\n",
       "      <td>4.000000</td>\n",
       "      <td>5.060000e+01</td>\n",
       "      <td>6.560000e+01</td>\n",
       "      <td>8.820000e+01</td>\n",
       "      <td>1.366000e+02</td>\n",
       "    </tr>\n",
       "    <tr>\n",
       "      <th>gross_primary_education_enrollment_country</th>\n",
       "      <td>2459.0</td>\n",
       "      <td>1.028585e+02</td>\n",
       "      <td>4.710977e+00</td>\n",
       "      <td>84.700000</td>\n",
       "      <td>1.002000e+02</td>\n",
       "      <td>1.018000e+02</td>\n",
       "      <td>1.026000e+02</td>\n",
       "      <td>1.421000e+02</td>\n",
       "    </tr>\n",
       "    <tr>\n",
       "      <th>life_expectancy_country</th>\n",
       "      <td>2458.0</td>\n",
       "      <td>7.812282e+01</td>\n",
       "      <td>3.730099e+00</td>\n",
       "      <td>54.300000</td>\n",
       "      <td>7.700000e+01</td>\n",
       "      <td>7.850000e+01</td>\n",
       "      <td>8.090000e+01</td>\n",
       "      <td>8.420000e+01</td>\n",
       "    </tr>\n",
       "    <tr>\n",
       "      <th>tax_revenue_country_country</th>\n",
       "      <td>2457.0</td>\n",
       "      <td>1.254624e+01</td>\n",
       "      <td>5.368625e+00</td>\n",
       "      <td>0.100000</td>\n",
       "      <td>9.600000e+00</td>\n",
       "      <td>9.600000e+00</td>\n",
       "      <td>1.280000e+01</td>\n",
       "      <td>3.720000e+01</td>\n",
       "    </tr>\n",
       "    <tr>\n",
       "      <th>total_tax_rate_country</th>\n",
       "      <td>2458.0</td>\n",
       "      <td>4.396334e+01</td>\n",
       "      <td>1.214530e+01</td>\n",
       "      <td>9.900000</td>\n",
       "      <td>3.660000e+01</td>\n",
       "      <td>4.120000e+01</td>\n",
       "      <td>5.910000e+01</td>\n",
       "      <td>1.063000e+02</td>\n",
       "    </tr>\n",
       "    <tr>\n",
       "      <th>population_country</th>\n",
       "      <td>2476.0</td>\n",
       "      <td>5.102053e+08</td>\n",
       "      <td>5.542447e+08</td>\n",
       "      <td>38019.000000</td>\n",
       "      <td>6.683440e+07</td>\n",
       "      <td>3.282395e+08</td>\n",
       "      <td>1.366418e+09</td>\n",
       "      <td>1.397715e+09</td>\n",
       "    </tr>\n",
       "    <tr>\n",
       "      <th>latitude_country</th>\n",
       "      <td>2476.0</td>\n",
       "      <td>3.490359e+01</td>\n",
       "      <td>1.700350e+01</td>\n",
       "      <td>-40.900557</td>\n",
       "      <td>3.586166e+01</td>\n",
       "      <td>3.709024e+01</td>\n",
       "      <td>4.046367e+01</td>\n",
       "      <td>6.192411e+01</td>\n",
       "    </tr>\n",
       "    <tr>\n",
       "      <th>longitude_country</th>\n",
       "      <td>2476.0</td>\n",
       "      <td>1.258316e+01</td>\n",
       "      <td>8.676299e+01</td>\n",
       "      <td>-106.346771</td>\n",
       "      <td>-9.571289e+01</td>\n",
       "      <td>1.045153e+01</td>\n",
       "      <td>1.041954e+02</td>\n",
       "      <td>1.748860e+02</td>\n",
       "    </tr>\n",
       "  </tbody>\n",
       "</table>\n",
       "</div>"
      ],
      "text/plain": [
       "                                             count          mean  \\\n",
       "rank                                        2640.0  1.289159e+03   \n",
       "finalWorth                                  2640.0  4.623788e+03   \n",
       "age                                         2575.0  6.514019e+01   \n",
       "birthYear                                   2564.0  1.957183e+03   \n",
       "birthMonth                                  2564.0  5.740250e+00   \n",
       "birthDay                                    2564.0  1.209984e+01   \n",
       "cpi_country                                 2456.0  1.277552e+02   \n",
       "cpi_change_country                          2456.0  4.364169e+00   \n",
       "gross_tertiary_education_enrollment         2458.0  6.722567e+01   \n",
       "gross_primary_education_enrollment_country  2459.0  1.028585e+02   \n",
       "life_expectancy_country                     2458.0  7.812282e+01   \n",
       "tax_revenue_country_country                 2457.0  1.254624e+01   \n",
       "total_tax_rate_country                      2458.0  4.396334e+01   \n",
       "population_country                          2476.0  5.102053e+08   \n",
       "latitude_country                            2476.0  3.490359e+01   \n",
       "longitude_country                           2476.0  1.258316e+01   \n",
       "\n",
       "                                                     std           min  \\\n",
       "rank                                        7.396937e+02      1.000000   \n",
       "finalWorth                                  9.834241e+03   1000.000000   \n",
       "age                                         1.325810e+01     18.000000   \n",
       "birthYear                                   1.328252e+01   1921.000000   \n",
       "birthMonth                                  3.710085e+00      1.000000   \n",
       "birthDay                                    9.918876e+00      1.000000   \n",
       "cpi_country                                 2.645295e+01     99.550000   \n",
       "cpi_change_country                          3.623763e+00     -1.900000   \n",
       "gross_tertiary_education_enrollment         2.134343e+01      4.000000   \n",
       "gross_primary_education_enrollment_country  4.710977e+00     84.700000   \n",
       "life_expectancy_country                     3.730099e+00     54.300000   \n",
       "tax_revenue_country_country                 5.368625e+00      0.100000   \n",
       "total_tax_rate_country                      1.214530e+01      9.900000   \n",
       "population_country                          5.542447e+08  38019.000000   \n",
       "latitude_country                            1.700350e+01    -40.900557   \n",
       "longitude_country                           8.676299e+01   -106.346771   \n",
       "\n",
       "                                                     25%           50%  \\\n",
       "rank                                        6.590000e+02  1.312000e+03   \n",
       "finalWorth                                  1.500000e+03  2.300000e+03   \n",
       "age                                         5.600000e+01  6.500000e+01   \n",
       "birthYear                                   1.948000e+03  1.957000e+03   \n",
       "birthMonth                                  2.000000e+00  6.000000e+00   \n",
       "birthDay                                    1.000000e+00  1.100000e+01   \n",
       "cpi_country                                 1.172400e+02  1.172400e+02   \n",
       "cpi_change_country                          1.700000e+00  2.900000e+00   \n",
       "gross_tertiary_education_enrollment         5.060000e+01  6.560000e+01   \n",
       "gross_primary_education_enrollment_country  1.002000e+02  1.018000e+02   \n",
       "life_expectancy_country                     7.700000e+01  7.850000e+01   \n",
       "tax_revenue_country_country                 9.600000e+00  9.600000e+00   \n",
       "total_tax_rate_country                      3.660000e+01  4.120000e+01   \n",
       "population_country                          6.683440e+07  3.282395e+08   \n",
       "latitude_country                            3.586166e+01  3.709024e+01   \n",
       "longitude_country                          -9.571289e+01  1.045153e+01   \n",
       "\n",
       "                                                     75%           max  \n",
       "rank                                        1.905000e+03  2.540000e+03  \n",
       "finalWorth                                  4.200000e+03  2.110000e+05  \n",
       "age                                         7.500000e+01  1.010000e+02  \n",
       "birthYear                                   1.966000e+03  2.004000e+03  \n",
       "birthMonth                                  9.000000e+00  1.200000e+01  \n",
       "birthDay                                    2.100000e+01  3.100000e+01  \n",
       "cpi_country                                 1.250800e+02  2.885700e+02  \n",
       "cpi_change_country                          7.500000e+00  5.350000e+01  \n",
       "gross_tertiary_education_enrollment         8.820000e+01  1.366000e+02  \n",
       "gross_primary_education_enrollment_country  1.026000e+02  1.421000e+02  \n",
       "life_expectancy_country                     8.090000e+01  8.420000e+01  \n",
       "tax_revenue_country_country                 1.280000e+01  3.720000e+01  \n",
       "total_tax_rate_country                      5.910000e+01  1.063000e+02  \n",
       "population_country                          1.366418e+09  1.397715e+09  \n",
       "latitude_country                            4.046367e+01  6.192411e+01  \n",
       "longitude_country                           1.041954e+02  1.748860e+02  "
      ]
     },
     "execution_count": 4,
     "metadata": {},
     "output_type": "execute_result"
    }
   ],
   "source": [
    "df.describe().T #summary about the data"
   ]
  },
  {
   "cell_type": "code",
   "execution_count": 5,
   "id": "d333bd7d",
   "metadata": {
    "execution": {
     "iopub.execute_input": "2023-10-30T09:28:54.106372Z",
     "iopub.status.busy": "2023-10-30T09:28:54.105713Z",
     "iopub.status.idle": "2023-10-30T09:28:54.115498Z",
     "shell.execute_reply": "2023-10-30T09:28:54.114777Z"
    },
    "papermill": {
     "duration": 0.022149,
     "end_time": "2023-10-30T09:28:54.117270",
     "exception": false,
     "start_time": "2023-10-30T09:28:54.095121",
     "status": "completed"
    },
    "tags": []
   },
   "outputs": [
    {
     "data": {
      "text/plain": [
       "rank                                             0\n",
       "finalWorth                                       0\n",
       "category                                         0\n",
       "personName                                       0\n",
       "age                                             65\n",
       "country                                         38\n",
       "city                                            72\n",
       "source                                           0\n",
       "industries                                       0\n",
       "countryOfCitizenship                             0\n",
       "organization                                  2315\n",
       "selfMade                                         0\n",
       "status                                           0\n",
       "gender                                           0\n",
       "birthDate                                       76\n",
       "lastName                                         0\n",
       "firstName                                        3\n",
       "title                                         2301\n",
       "date                                             0\n",
       "state                                         1887\n",
       "residenceStateRegion                          1893\n",
       "birthYear                                       76\n",
       "birthMonth                                      76\n",
       "birthDay                                        76\n",
       "cpi_country                                    184\n",
       "cpi_change_country                             184\n",
       "gdp_country                                    164\n",
       "gross_tertiary_education_enrollment            182\n",
       "gross_primary_education_enrollment_country     181\n",
       "life_expectancy_country                        182\n",
       "tax_revenue_country_country                    183\n",
       "total_tax_rate_country                         182\n",
       "population_country                             164\n",
       "latitude_country                               164\n",
       "longitude_country                              164\n",
       "dtype: int64"
      ]
     },
     "execution_count": 5,
     "metadata": {},
     "output_type": "execute_result"
    }
   ],
   "source": [
    "df.isnull().sum() #check the null values"
   ]
  },
  {
   "cell_type": "code",
   "execution_count": 6,
   "id": "7c311396",
   "metadata": {
    "execution": {
     "iopub.execute_input": "2023-10-30T09:28:54.138030Z",
     "iopub.status.busy": "2023-10-30T09:28:54.137406Z",
     "iopub.status.idle": "2023-10-30T09:28:54.141704Z",
     "shell.execute_reply": "2023-10-30T09:28:54.140966Z"
    },
    "papermill": {
     "duration": 0.016786,
     "end_time": "2023-10-30T09:28:54.143534",
     "exception": false,
     "start_time": "2023-10-30T09:28:54.126748",
     "status": "completed"
    },
    "tags": []
   },
   "outputs": [],
   "source": [
    "#Make a coppy of dataframe\n",
    "dfC = df.copy()"
   ]
  },
  {
   "cell_type": "code",
   "execution_count": 7,
   "id": "bb0f7bb2",
   "metadata": {
    "execution": {
     "iopub.execute_input": "2023-10-30T09:28:54.163895Z",
     "iopub.status.busy": "2023-10-30T09:28:54.163566Z",
     "iopub.status.idle": "2023-10-30T09:28:54.199468Z",
     "shell.execute_reply": "2023-10-30T09:28:54.198522Z"
    },
    "papermill": {
     "duration": 0.048425,
     "end_time": "2023-10-30T09:28:54.201431",
     "exception": false,
     "start_time": "2023-10-30T09:28:54.153006",
     "status": "completed"
    },
    "tags": []
   },
   "outputs": [],
   "source": [
    "dfC['country'].fillna(dfC['country'].mode().iloc[0], inplace=True)\n",
    "dfC['city'].fillna(dfC['city'].mode().iloc[0], inplace=True)\n",
    "dfC['age'].fillna(dfC['age'].median(), inplace=True)\n",
    "\n",
    "dfC['title'].fillna('Not Specified', inplace=True)\n",
    "dfC['organization'].fillna('Not Specified', inplace=True)\n",
    "dfC['residenceStateRegion'].fillna('Not Specified', inplace=True)\n",
    "dfC['state'].fillna('Not Specified', inplace=True)\n",
    "\n",
    "dfC['birthDate'].fillna(df['birthDate'].value_counts().idxmax(), inplace=True)\n",
    "name_mapping = {\n",
    "    'Tahir': 'Muhammad',\n",
    "    'Jay-Z': 'Shawn',\n",
    "    'Rihanna': 'Robyn'\n",
    "}"
   ]
  },
  {
   "cell_type": "code",
   "execution_count": 8,
   "id": "0a9f7cf0",
   "metadata": {
    "execution": {
     "iopub.execute_input": "2023-10-30T09:28:54.163895Z",
     "iopub.status.busy": "2023-10-30T09:28:54.163566Z",
     "iopub.status.idle": "2023-10-30T09:28:54.199468Z",
     "shell.execute_reply": "2023-10-30T09:28:54.198522Z"
    },
    "papermill": {
     "duration": 0.048425,
     "end_time": "2023-10-30T09:28:54.201431",
     "exception": false,
     "start_time": "2023-10-30T09:28:54.153006",
     "status": "completed"
    },
    "tags": []
   },
   "outputs": [],
   "source": [
    "for last_name, first_name in name_mapping.items():\n",
    "    dfC.loc[dfC['lastName'] == last_name, 'firstName'] = first_name\n",
    "\n",
    "dfC['birthYear'].fillna(dfC['birthYear'].mean(), inplace=True)\n",
    "dfC['birthMonth'].fillna(dfC['birthMonth'].mode().iloc[0], inplace=True)\n",
    "dfC['birthDay'].fillna(dfC['birthDay'].mode().iloc[0], inplace=True)\n",
    "\n",
    "dfC['cpi_country'].fillna(dfC['cpi_country'].mean(), inplace=True)\n",
    "dfC['cpi_change_country'].fillna(dfC['cpi_change_country'].mean(), inplace=True)\n",
    "\n",
    "dfC['gross_tertiary_education_enrollment'].fillna(dfC['gross_tertiary_education_enrollment'].mean(), inplace=True)\n",
    "dfC['gross_primary_education_enrollment_country'].fillna(dfC['gross_primary_education_enrollment_country'].mean(), inplace=True)\n",
    "\n",
    "dfC['life_expectancy_country'].fillna(dfC['life_expectancy_country'].mean(), inplace=True)\n",
    "dfC['tax_revenue_country_country'].fillna(dfC['tax_revenue_country_country'].mean(), inplace=True)\n",
    "dfC['total_tax_rate_country'].fillna(dfC['total_tax_rate_country'].mean(), inplace=True)\n",
    "dfC['population_country'].fillna(dfC['population_country'].median(), inplace=True)\n",
    "\n",
    "dfC['latitude_country'].fillna(dfC['latitude_country'].median(), inplace=True)\n",
    "dfC['longitude_country'].fillna(dfC['longitude_country'].median(), inplace=True)\n",
    "\n",
    "dfC['gdp_country'] = dfC['gdp_country'].astype(str).str.replace('[\\$,]', '', regex=True)\n",
    "dfC['gdp_country'] = pd.to_numeric(dfC['gdp_country'], errors='coerce')\n",
    "dfC['gdp_country'].fillna(dfC['gdp_country'].mean(), inplace=True)"
   ]
  },
  {
   "cell_type": "code",
   "execution_count": 9,
   "id": "71158354",
   "metadata": {
    "execution": {
     "iopub.execute_input": "2023-10-30T09:28:54.222557Z",
     "iopub.status.busy": "2023-10-30T09:28:54.222223Z",
     "iopub.status.idle": "2023-10-30T09:28:54.233466Z",
     "shell.execute_reply": "2023-10-30T09:28:54.232503Z"
    },
    "papermill": {
     "duration": 0.024102,
     "end_time": "2023-10-30T09:28:54.235404",
     "exception": false,
     "start_time": "2023-10-30T09:28:54.211302",
     "status": "completed"
    },
    "tags": []
   },
   "outputs": [
    {
     "data": {
      "text/plain": [
       "rank                                          0\n",
       "finalWorth                                    0\n",
       "category                                      0\n",
       "personName                                    0\n",
       "age                                           0\n",
       "country                                       0\n",
       "city                                          0\n",
       "source                                        0\n",
       "industries                                    0\n",
       "countryOfCitizenship                          0\n",
       "organization                                  0\n",
       "selfMade                                      0\n",
       "status                                        0\n",
       "gender                                        0\n",
       "birthDate                                     0\n",
       "lastName                                      0\n",
       "firstName                                     0\n",
       "title                                         0\n",
       "date                                          0\n",
       "state                                         0\n",
       "residenceStateRegion                          0\n",
       "birthYear                                     0\n",
       "birthMonth                                    0\n",
       "birthDay                                      0\n",
       "cpi_country                                   0\n",
       "cpi_change_country                            0\n",
       "gdp_country                                   0\n",
       "gross_tertiary_education_enrollment           0\n",
       "gross_primary_education_enrollment_country    0\n",
       "life_expectancy_country                       0\n",
       "tax_revenue_country_country                   0\n",
       "total_tax_rate_country                        0\n",
       "population_country                            0\n",
       "latitude_country                              0\n",
       "longitude_country                             0\n",
       "dtype: int64"
      ]
     },
     "execution_count": 9,
     "metadata": {},
     "output_type": "execute_result"
    }
   ],
   "source": [
    "dfC.isnull().sum()"
   ]
  },
  {
   "cell_type": "code",
   "execution_count": 10,
   "id": "6e30a7b6",
   "metadata": {},
   "outputs": [
    {
     "data": {
      "image/png": "[encoded data removed]",
      "text/plain": [
       "<Figure size 1200x600 with 1 Axes>"
      ]
     },
     "metadata": {},
     "output_type": "display_data"
    }
   ],
   "source": [
    "# Create a bar chart of the distribution of billionaires by 'category'\n",
    "plt.figure(figsize=(12, 6))\n",
    "sns.countplot(data=df, x='category', order=df['category'].value_counts().index)\n",
    "plt.title('Distribution of Billionaires by Category')\n",
    "plt.xlabel('Category')\n",
    "plt.ylabel('Count')\n",
    "plt.xticks(rotation=45)  # Rotate the category labels for readability\n",
    "plt.show()\n"
   ]
  },
  {
   "cell_type": "code",
   "execution_count": 11,
   "id": "f9e15eae",
   "metadata": {},
   "outputs": [
    {
     "data": {
      "image/png": "[encoded data removed]",
      "text/plain": [
       "<Figure size 1000x600 with 1 Axes>"
      ]
     },
     "metadata": {},
     "output_type": "display_data"
    }
   ],
   "source": [
    "# Histogram of 'finalWorth'\n",
    "plt.figure(figsize=(10, 6))\n",
    "sns.histplot(df['finalWorth'], bins=20, kde=True)\n",
    "plt.title('Distribution of Final Worth')\n",
    "plt.xlabel('Final Worth')\n",
    "plt.ylabel('Frequency')\n",
    "plt.show()"
   ]
  },
  {
   "cell_type": "code",
   "execution_count": 12,
   "id": "59d45e49",
   "metadata": {},
   "outputs": [
    {
     "data": {
      "image/png": "[encoded data removed]",
      "text/plain": [
       "<Figure size 1000x600 with 1 Axes>"
      ]
     },
     "metadata": {},
     "output_type": "display_data"
    }
   ],
   "source": [
    "# Scatter plot of 'age' vs. 'finalWorth'\n",
    "plt.figure(figsize=(10, 6))\n",
    "sns.scatterplot(data=df, x='age', y='finalWorth')\n",
    "plt.title('Scatter Plot of Age vs. Final Worth')\n",
    "plt.xlabel('Age')\n",
    "plt.ylabel('Final Worth')\n",
    "plt.show()"
   ]
  },
  {
   "cell_type": "code",
   "execution_count": 13,
   "id": "87d4f039",
   "metadata": {},
   "outputs": [
    {
     "data": {
      "image/png": "[encoded data removed]",
      "text/plain": [
       "<Figure size 1000x600 with 1 Axes>"
      ]
     },
     "metadata": {},
     "output_type": "display_data"
    }
   ],
   "source": [
    "# Box plot of 'finalWorth' by 'selfMade' status\n",
    "plt.figure(figsize=(10, 6))\n",
    "sns.boxplot(data=df, x='selfMade', y='finalWorth')\n",
    "plt.title('Distribution of Final Worth by Self-Made Status')\n",
    "plt.xlabel('Self-Made')\n",
    "plt.ylabel('Final Worth')\n",
    "plt.show()"
   ]
  },
  {
   "cell_type": "code",
   "execution_count": 14,
   "id": "fde6f90f",
   "metadata": {
    "scrolled": false
   },
   "outputs": [
    {
     "data": {
      "image/png": "[encoded data removed]",
      "text/plain": [
       "<Figure size 800x800 with 1 Axes>"
      ]
     },
     "metadata": {},
     "output_type": "display_data"
    }
   ],
   "source": [
    "# Pie chart of the distribution of 'gender'\n",
    "gender_counts = df['gender'].value_counts()\n",
    "plt.figure(figsize=(8, 8))\n",
    "plt.pie(gender_counts, labels=gender_counts.index, autopct='%1.1f%%', startangle=90)\n",
    "plt.title('Distribution of Gender')\n",
    "plt.show()"
   ]
  },
  {
   "cell_type": "code",
   "execution_count": 15,
   "id": "27d7558c",
   "metadata": {},
   "outputs": [],
   "source": [
    "import warnings\n",
    "\n",
    "# Ignore all warning messages\n",
    "warnings.filterwarnings('ignore')"
   ]
  },
  {
   "cell_type": "markdown",
   "id": "dc798a7d",
   "metadata": {
    "papermill": {
     "duration": 0.009275,
     "end_time": "2023-10-30T09:28:54.254326",
     "exception": false,
     "start_time": "2023-10-30T09:28:54.245051",
     "status": "completed"
    },
    "tags": []
   },
   "source": [
    "# Using K-meam cluster to split type of billionaires"
   ]
  },
  {
   "cell_type": "code",
   "execution_count": 16,
   "id": "06812a76",
   "metadata": {
    "execution": {
     "iopub.execute_input": "2023-10-30T09:29:13.209438Z",
     "iopub.status.busy": "2023-10-30T09:29:13.209102Z",
     "iopub.status.idle": "2023-10-30T09:29:25.367794Z",
     "shell.execute_reply": "2023-10-30T09:29:25.366645Z"
    },
    "papermill": {
     "duration": 12.174679,
     "end_time": "2023-10-30T09:29:25.370137",
     "exception": false,
     "start_time": "2023-10-30T09:29:13.195458",
     "status": "completed"
    },
    "tags": []
   },
   "outputs": [],
   "source": [
    "# Import necessary libraries\n",
    "from sklearn.cluster import KMeans\n",
    "from sklearn.metrics import silhouette_score\n",
    "from sklearn.metrics import silhouette_samples\n",
    "from sklearn.preprocessing import LabelEncoder,StandardScaler\n",
    "from sklearn.svm import SVC\n",
    "from sklearn.model_selection import GridSearchCV\n",
    "from sklearn.metrics import accuracy_score\n",
    "from sklearn.model_selection import train_test_split\n",
    "\n",
    "from sklearn.linear_model import LogisticRegression\n",
    "from sklearn.metrics import accuracy_score, confusion_matrix, classification_report\n",
    "from sklearn.naive_bayes import GaussianNB"
   ]
  },
  {
   "cell_type": "code",
   "execution_count": 17,
   "id": "32ce8819",
   "metadata": {
    "execution": {
     "iopub.execute_input": "2023-10-30T09:29:13.209438Z",
     "iopub.status.busy": "2023-10-30T09:29:13.209102Z",
     "iopub.status.idle": "2023-10-30T09:29:25.367794Z",
     "shell.execute_reply": "2023-10-30T09:29:25.366645Z"
    },
    "papermill": {
     "duration": 12.174679,
     "end_time": "2023-10-30T09:29:25.370137",
     "exception": false,
     "start_time": "2023-10-30T09:29:13.195458",
     "status": "completed"
    },
    "tags": []
   },
   "outputs": [
    {
     "name": "stderr",
     "output_type": "stream",
     "text": [
      "  File \"C:\\Users\\OFFICE\\anaconda3\\Lib\\site-packages\\joblib\\externals\\loky\\backend\\context.py\", line 199, in _count_physical_cores\n",
      "    cpu_info = subprocess.run(\n",
      "               ^^^^^^^^^^^^^^^\n",
      "  File \"C:\\Users\\OFFICE\\anaconda3\\Lib\\subprocess.py\", line 548, in run\n",
      "    with Popen(*popenargs, **kwargs) as process:\n",
      "         ^^^^^^^^^^^^^^^^^^^^^^^^^^^\n",
      "  File \"C:\\Users\\OFFICE\\anaconda3\\Lib\\subprocess.py\", line 1026, in __init__\n",
      "    self._execute_child(args, executable, preexec_fn, close_fds,\n",
      "  File \"C:\\Users\\OFFICE\\anaconda3\\Lib\\subprocess.py\", line 1538, in _execute_child\n",
      "    hp, ht, pid, tid = _winapi.CreateProcess(executable, args,\n",
      "                       ^^^^^^^^^^^^^^^^^^^^^^^^^^^^^^^^^^^^^^^\n"
     ]
    },
    {
     "data": {
      "image/png": "[encoded data removed]",
      "text/plain": [
       "<Figure size 1000x600 with 1 Axes>"
      ]
     },
     "metadata": {},
     "output_type": "display_data"
    }
   ],
   "source": [
    "# Find the optimal number of clusters using silhouette coefficients\n",
    "# Select the columns for clustering\n",
    "selected_columns = [\n",
    "    'finalWorth', 'age', 'cpi_change_country', 'gdp_country',\n",
    "    'total_tax_rate_country', 'population_country'\n",
    "]\n",
    "\n",
    "# Extract the selected columns from the dataset\n",
    "X = dfC[selected_columns]\n",
    "\n",
    "# Standardize the data using StandardScaler\n",
    "scaler = StandardScaler()\n",
    "X_scaled = scaler.fit_transform(X)\n",
    "\n",
    "# Calculate silhouette coefficients for a range of cluster numbers from 2 to 10\n",
    "n_clusters_range = range(2, 11)\n",
    "silhouette_scores = []\n",
    "\n",
    "for n_clusters in n_clusters_range:\n",
    "    kmeans = KMeans(n_clusters=n_clusters, random_state=0)\n",
    "    cluster_labels = kmeans.fit_predict(X_scaled)\n",
    "    silhouette_avg = silhouette_score(X_scaled, cluster_labels)\n",
    "    silhouette_scores.append(silhouette_avg)\n",
    "\n",
    "# Plot the silhouette coefficients\n",
    "plt.figure(figsize=(10, 6))\n",
    "plt.plot(n_clusters_range, silhouette_scores, marker='o', linestyle='-', color='b')\n",
    "plt.title('Silhouette Coefficients for Optimal Number of Clusters')\n",
    "plt.xlabel('Number of Clusters')\n",
    "plt.ylabel('Silhouette Coefficient')\n",
    "plt.xticks(n_clusters_range)\n",
    "\n",
    "# Add a red dashed line at x = 7 to indicate a potential optimal cluster number\n",
    "plt.axvline(x=7, color='r', linestyle='--', label='x = 7')\n",
    "\n",
    "# Display a legend\n",
    "plt.legend()\n",
    "plt.show()"
   ]
  },
  {
   "cell_type": "markdown",
   "id": "884f54c0",
   "metadata": {
    "papermill": {
     "duration": 0.013917,
     "end_time": "2023-10-30T09:29:25.398195",
     "exception": false,
     "start_time": "2023-10-30T09:29:25.384278",
     "status": "completed"
    },
    "tags": []
   },
   "source": [
    "Then we choose 7 cluster."
   ]
  },
  {
   "cell_type": "code",
   "execution_count": 18,
   "id": "69858b04",
   "metadata": {
    "execution": {
     "iopub.execute_input": "2023-10-30T09:29:25.428226Z",
     "iopub.status.busy": "2023-10-30T09:29:25.427142Z",
     "iopub.status.idle": "2023-10-30T09:29:26.771864Z",
     "shell.execute_reply": "2023-10-30T09:29:26.770828Z"
    },
    "papermill": {
     "duration": 1.362069,
     "end_time": "2023-10-30T09:29:26.774148",
     "exception": false,
     "start_time": "2023-10-30T09:29:25.412079",
     "status": "completed"
    },
    "tags": []
   },
   "outputs": [
    {
     "name": "stdout",
     "output_type": "stream",
     "text": [
      "   finalWorth       age  cpi_change_country  gdp_country  \\\n",
      "0   -0.107022 -0.761248            0.856578     1.001041   \n",
      "1   -0.068383  0.056622           -0.900033    -1.128052   \n",
      "2   -0.131733 -0.475788           -0.418994     0.898140   \n",
      "3    8.438194  0.248604            0.480559     0.510108   \n",
      "4   -0.076848  0.006757           -0.522180    -0.876600   \n",
      "5   -0.124519  0.292256            1.526623    -1.003250   \n",
      "6    0.045884  1.056817            0.783881     0.927551   \n",
      "\n",
      "   total_tax_rate_country  population_country  \n",
      "0               -0.594622           -0.318134  \n",
      "1               -1.352020           -0.844038  \n",
      "2                1.300412            1.669293  \n",
      "3               -0.254770           -0.251497  \n",
      "4                0.503325           -0.704069  \n",
      "5                0.489065            1.207716  \n",
      "6               -0.548968           -0.316956  \n"
     ]
    }
   ],
   "source": [
    "# Select the columns to use for clustering\n",
    "selected_columns = [\n",
    "    'finalWorth', 'age', 'cpi_change_country', 'gdp_country',\n",
    "    'total_tax_rate_country', 'population_country'\n",
    "]\n",
    "\n",
    "# Create a new DataFrame containing only the selected columns\n",
    "X = dfC[selected_columns]\n",
    "\n",
    "# Standardize the data using StandardScaler\n",
    "scaler = StandardScaler()\n",
    "X_scaled = scaler.fit_transform(X)\n",
    "\n",
    "# Choose the number of clusters you want to create\n",
    "n_clusters = 7  # Adjust the number of clusters as needed\n",
    "\n",
    "# Apply the K-Means Clustering algorithm\n",
    "kmeans = KMeans(n_clusters=n_clusters, random_state=0)\n",
    "kmeans.fit(X_scaled)\n",
    "\n",
    "# Add the clustering results to the original DataFrame using \"cut\"\n",
    "dfC['cluster'] = pd.cut(kmeans.labels_, bins=n_clusters, labels=[f'Cluster {i+1}' for i in range(n_clusters)])\n",
    "\n",
    "# Print information about the cluster centers\n",
    "cluster_centers = pd.DataFrame(kmeans.cluster_centers_, columns=X.columns)\n",
    "print(cluster_centers)"
   ]
  },
  {
   "cell_type": "code",
   "execution_count": 19,
   "id": "62e8d495",
   "metadata": {
    "execution": {
     "iopub.execute_input": "2023-10-30T09:29:25.428226Z",
     "iopub.status.busy": "2023-10-30T09:29:25.427142Z",
     "iopub.status.idle": "2023-10-30T09:29:26.771864Z",
     "shell.execute_reply": "2023-10-30T09:29:26.770828Z"
    },
    "papermill": {
     "duration": 1.362069,
     "end_time": "2023-10-30T09:29:26.774148",
     "exception": false,
     "start_time": "2023-10-30T09:29:25.412079",
     "status": "completed"
    },
    "tags": []
   },
   "outputs": [
    {
     "data": {
      "text/plain": [
       "cluster\n",
       "Cluster 5    635\n",
       "Cluster 3    522\n",
       "Cluster 2    459\n",
       "Cluster 7    427\n",
       "Cluster 1    386\n",
       "Cluster 6    188\n",
       "Cluster 4     23\n",
       "Name: count, dtype: int64"
      ]
     },
     "execution_count": 19,
     "metadata": {},
     "output_type": "execute_result"
    }
   ],
   "source": [
    "# Print information about the number of data points in each cluster\n",
    "cluster_counts = dfC['cluster'].value_counts()\n",
    "cluster_counts"
   ]
  },
  {
   "cell_type": "code",
   "execution_count": 20,
   "id": "a500da8e",
   "metadata": {
    "execution": {
     "iopub.execute_input": "2023-10-30T09:29:26.804105Z",
     "iopub.status.busy": "2023-10-30T09:29:26.803237Z",
     "iopub.status.idle": "2023-10-30T09:29:26.811720Z",
     "shell.execute_reply": "2023-10-30T09:29:26.810643Z"
    },
    "papermill": {
     "duration": 0.02543,
     "end_time": "2023-10-30T09:29:26.813684",
     "exception": false,
     "start_time": "2023-10-30T09:29:26.788254",
     "status": "completed"
    },
    "tags": []
   },
   "outputs": [
    {
     "data": {
      "text/plain": [
       "rank                                             int64\n",
       "finalWorth                                       int64\n",
       "category                                        object\n",
       "personName                                      object\n",
       "age                                            float64\n",
       "country                                         object\n",
       "city                                            object\n",
       "source                                          object\n",
       "industries                                      object\n",
       "countryOfCitizenship                            object\n",
       "organization                                    object\n",
       "selfMade                                          bool\n",
       "status                                          object\n",
       "gender                                          object\n",
       "birthDate                                       object\n",
       "lastName                                        object\n",
       "firstName                                       object\n",
       "title                                           object\n",
       "date                                            object\n",
       "state                                           object\n",
       "residenceStateRegion                            object\n",
       "birthYear                                      float64\n",
       "birthMonth                                     float64\n",
       "birthDay                                       float64\n",
       "cpi_country                                    float64\n",
       "cpi_change_country                             float64\n",
       "gdp_country                                    float64\n",
       "gross_tertiary_education_enrollment            float64\n",
       "gross_primary_education_enrollment_country     float64\n",
       "life_expectancy_country                        float64\n",
       "tax_revenue_country_country                    float64\n",
       "total_tax_rate_country                         float64\n",
       "population_country                             float64\n",
       "latitude_country                               float64\n",
       "longitude_country                              float64\n",
       "cluster                                       category\n",
       "dtype: object"
      ]
     },
     "execution_count": 20,
     "metadata": {},
     "output_type": "execute_result"
    }
   ],
   "source": [
    "dfC.dtypes"
   ]
  },
  {
   "cell_type": "markdown",
   "id": "4296b1f1",
   "metadata": {},
   "source": [
    "# Using Preprocessing Technique"
   ]
  },
  {
   "cell_type": "code",
   "execution_count": 21,
   "id": "7d9859dc",
   "metadata": {},
   "outputs": [],
   "source": [
    "# Create a LabelEncoder for each column you want to encode\n",
    "label_encoders = {}\n",
    "columns_to_encode = ['category', 'country', 'industries', 'selfMade', 'status', 'gender', 'title', 'date']\n",
    "\n",
    "for col in columns_to_encode:\n",
    "    label_encoders[col] = LabelEncoder()\n",
    "    df[col] = label_encoders[col].fit_transform(df[col])"
   ]
  },
  {
   "cell_type": "code",
   "execution_count": 22,
   "id": "5d9b55a3",
   "metadata": {
    "execution": {
     "iopub.execute_input": "2023-10-30T09:29:26.889122Z",
     "iopub.status.busy": "2023-10-30T09:29:26.888807Z",
     "iopub.status.idle": "2023-10-30T09:29:26.906759Z",
     "shell.execute_reply": "2023-10-30T09:29:26.905961Z"
    },
    "papermill": {
     "duration": 0.034907,
     "end_time": "2023-10-30T09:29:26.908861",
     "exception": false,
     "start_time": "2023-10-30T09:29:26.873954",
     "status": "completed"
    },
    "tags": []
   },
   "outputs": [],
   "source": [
    "# Select the columns to normalize, excluding the \"cluster\" column and non-numeric columns\n",
    "columns_to_normalize = [col for col in dfC.columns if col != 'cluster' and dfC[col].dtype != 'object']\n",
    "\n",
    "# Initialize the StandardScaler\n",
    "scaler = StandardScaler()\n",
    "\n",
    "# Apply the StandardScaler to the selected data columns\n",
    "dfC[columns_to_normalize] = scaler.fit_transform(dfC[columns_to_normalize])\n"
   ]
  },
  {
   "cell_type": "code",
   "execution_count": 23,
   "id": "eae4c198",
   "metadata": {
    "execution": {
     "iopub.execute_input": "2023-10-30T09:29:26.987190Z",
     "iopub.status.busy": "2023-10-30T09:29:26.986826Z",
     "iopub.status.idle": "2023-10-30T09:29:26.994668Z",
     "shell.execute_reply": "2023-10-30T09:29:26.993854Z"
    },
    "papermill": {
     "duration": 0.073572,
     "end_time": "2023-10-30T09:29:26.996578",
     "exception": false,
     "start_time": "2023-10-30T09:29:26.923006",
     "status": "completed"
    },
    "tags": []
   },
   "outputs": [],
   "source": [
    "#train and test X, y\n",
    "y = dfC[\"cluster\"].values\n",
    "X = dfC[[\"rank\", \"selfMade\", \"birthYear\", \"cpi_country\",\"tax_revenue_country_country\",\"total_tax_rate_country\",\"population_country\"]].values\n",
    "#split train_test using sklearn\n",
    "\n",
    "X_train, X_test, y_train, y_test = train_test_split(X, y, test_size=0.3, random_state=1)"
   ]
  },
  {
   "cell_type": "markdown",
   "id": "d14bdf63",
   "metadata": {},
   "source": [
    "# Using LogisticRegression"
   ]
  },
  {
   "cell_type": "code",
   "execution_count": 24,
   "id": "76a6d2fd",
   "metadata": {
    "execution": {
     "iopub.execute_input": "2023-10-30T09:29:39.491559Z",
     "iopub.status.busy": "2023-10-30T09:29:39.491230Z",
     "iopub.status.idle": "2023-10-30T09:29:39.627447Z",
     "shell.execute_reply": "2023-10-30T09:29:39.626245Z"
    },
    "papermill": {
     "duration": 0.155398,
     "end_time": "2023-10-30T09:29:39.629887",
     "exception": false,
     "start_time": "2023-10-30T09:29:39.474489",
     "status": "completed"
    },
    "tags": []
   },
   "outputs": [],
   "source": [
    "# Initialize the Logistic Regression model with a random state\n",
    "logistic_model = LogisticRegression(random_state=0)\n",
    "\n",
    "# Train the Logistic Regression model using the training data\n",
    "logistic_model.fit(X_train, y_train)\n",
    "\n",
    "# Make predictions on the test data\n",
    "y_pred = logistic_model.predict(X_test)\n",
    "\n",
    "# Calculate the accuracy score of the model\n",
    "accuracy = accuracy_score(y_test, y_pred)\n",
    "\n",
    "# Create a confusion matrix to evaluate the model's performance\n",
    "confusion_mat = confusion_matrix(y_test, y_pred)\n",
    "\n",
    "# Generate a classification report, which includes precision, recall, and F1-score\n",
    "classification_rep = classification_report(y_test, y_pred)"
   ]
  },
  {
   "cell_type": "code",
   "execution_count": 25,
   "id": "381525c1",
   "metadata": {
    "execution": {
     "iopub.execute_input": "2023-10-30T09:29:39.491559Z",
     "iopub.status.busy": "2023-10-30T09:29:39.491230Z",
     "iopub.status.idle": "2023-10-30T09:29:39.627447Z",
     "shell.execute_reply": "2023-10-30T09:29:39.626245Z"
    },
    "papermill": {
     "duration": 0.155398,
     "end_time": "2023-10-30T09:29:39.629887",
     "exception": false,
     "start_time": "2023-10-30T09:29:39.474489",
     "status": "completed"
    },
    "tags": []
   },
   "outputs": [
    {
     "name": "stdout",
     "output_type": "stream",
     "text": [
      "Accuracy Score: 0.96\n",
      "Confusion Matrix:\n",
      "[[115   0   0   0   0   0   0]\n",
      " [  1 133   0   0   1   0   3]\n",
      " [  0   0 151   0   0   0   0]\n",
      " [  3   0   0   0   0   0   4]\n",
      " [  1   0   0   2 181   3   0]\n",
      " [  0   0   0   0   2  52   0]\n",
      " [  5   0   0   0   9   0 126]]\n"
     ]
    }
   ],
   "source": [
    "# Print the results\n",
    "print(f'Accuracy Score: {accuracy:.2f}')\n",
    "print('Confusion Matrix:')\n",
    "print(confusion_mat)"
   ]
  },
  {
   "cell_type": "code",
   "execution_count": 26,
   "id": "5362c9de",
   "metadata": {
    "execution": {
     "iopub.execute_input": "2023-10-30T09:29:39.491559Z",
     "iopub.status.busy": "2023-10-30T09:29:39.491230Z",
     "iopub.status.idle": "2023-10-30T09:29:39.627447Z",
     "shell.execute_reply": "2023-10-30T09:29:39.626245Z"
    },
    "papermill": {
     "duration": 0.155398,
     "end_time": "2023-10-30T09:29:39.629887",
     "exception": false,
     "start_time": "2023-10-30T09:29:39.474489",
     "status": "completed"
    },
    "tags": []
   },
   "outputs": [
    {
     "name": "stdout",
     "output_type": "stream",
     "text": [
      "Classification Report:\n",
      "              precision    recall  f1-score   support\n",
      "\n",
      "   Cluster 1       0.92      1.00      0.96       115\n",
      "   Cluster 2       1.00      0.96      0.98       138\n",
      "   Cluster 3       1.00      1.00      1.00       151\n",
      "   Cluster 4       0.00      0.00      0.00         7\n",
      "   Cluster 5       0.94      0.97      0.95       187\n",
      "   Cluster 6       0.95      0.96      0.95        54\n",
      "   Cluster 7       0.95      0.90      0.92       140\n",
      "\n",
      "    accuracy                           0.96       792\n",
      "   macro avg       0.82      0.83      0.82       792\n",
      "weighted avg       0.95      0.96      0.95       792\n",
      "\n"
     ]
    }
   ],
   "source": [
    "print('Classification Report:')\n",
    "print(classification_rep)"
   ]
  },
  {
   "cell_type": "markdown",
   "id": "93a5e6f3",
   "metadata": {},
   "source": [
    "# Using Naive_Bayes"
   ]
  },
  {
   "cell_type": "code",
   "execution_count": 27,
   "id": "ae44e9e0",
   "metadata": {
    "execution": {
     "iopub.execute_input": "2023-10-30T09:29:39.662459Z",
     "iopub.status.busy": "2023-10-30T09:29:39.662115Z",
     "iopub.status.idle": "2023-10-30T09:29:39.708357Z",
     "shell.execute_reply": "2023-10-30T09:29:39.707650Z"
    },
    "papermill": {
     "duration": 0.065074,
     "end_time": "2023-10-30T09:29:39.710331",
     "exception": false,
     "start_time": "2023-10-30T09:29:39.645257",
     "status": "completed"
    },
    "tags": []
   },
   "outputs": [
    {
     "name": "stdout",
     "output_type": "stream",
     "text": [
      "Accuracy Score: 0.83\n",
      "Confusion Matrix:\n",
      "[[ 28   0   0   0   3   0  84]\n",
      " [  0 125   0   0  13   0   0]\n",
      " [  0   0 151   0   0   0   0]\n",
      " [  0   0   0   0   0   0   7]\n",
      " [  0   1   0   0 163   0  23]\n",
      " [  0   0   0   0   5  49   0]\n",
      " [  0   0   0   0   0   0 140]]\n",
      "Classification Report:\n",
      "              precision    recall  f1-score   support\n",
      "\n",
      "   Cluster 1       1.00      0.24      0.39       115\n",
      "   Cluster 2       0.99      0.91      0.95       138\n",
      "   Cluster 3       1.00      1.00      1.00       151\n",
      "   Cluster 4       0.00      0.00      0.00         7\n",
      "   Cluster 5       0.89      0.87      0.88       187\n",
      "   Cluster 6       1.00      0.91      0.95        54\n",
      "   Cluster 7       0.55      1.00      0.71       140\n",
      "\n",
      "    accuracy                           0.83       792\n",
      "   macro avg       0.78      0.70      0.70       792\n",
      "weighted avg       0.88      0.83      0.81       792\n",
      "\n"
     ]
    }
   ],
   "source": [
    "# Initialize the Gaussian Naive Bayes model\n",
    "gnb_model = GaussianNB()\n",
    "\n",
    "# Train the model on the training data\n",
    "gnb_model.fit(X_train, y_train)\n",
    "\n",
    "# Make predictions on the test data\n",
    "y_pred = gnb_model.predict(X_test)\n",
    "\n",
    "# Evaluate the model\n",
    "accuracy = accuracy_score(y_test, y_pred)\n",
    "confusion_mat = confusion_matrix(y_test, y_pred)\n",
    "classification_rep = classification_report(y_test, y_pred)\n",
    "\n",
    "# Print the results\n",
    "print(f'Accuracy Score: {accuracy:.2f}')\n",
    "print('Confusion Matrix:')\n",
    "print(confusion_mat)\n",
    "print('Classification Report:')\n",
    "print(classification_rep)"
   ]
  },
  {
   "cell_type": "code",
   "execution_count": 28,
   "id": "d62aeb6d",
   "metadata": {},
   "outputs": [
    {
     "data": {
      "image/png": "[encoded data removed]",
      "text/plain": [
       "<Figure size 1200x600 with 1 Axes>"
      ]
     },
     "metadata": {},
     "output_type": "display_data"
    }
   ],
   "source": [
    "# Generate an array of data point indices\n",
    "data_indices = np.arange(len(y_test))\n",
    "\n",
    "# Plot the predicted values (y_pred) and actual values (y_test)\n",
    "plt.figure(figsize=(12, 6))\n",
    "bar_width = 0.35\n",
    "plt.bar(data_indices, y_test, width=bar_width, label='Actual', alpha=0.6)\n",
    "plt.bar(data_indices + bar_width, y_pred, width=bar_width, label='Predicted', alpha=0.6)\n",
    "plt.xlabel('Data Points')\n",
    "plt.ylabel('Values')\n",
    "plt.title('Comparison of Predicted vs. Actual Values')\n",
    "plt.xticks(data_indices + bar_width / 2, data_indices)\n",
    "plt.legend()\n",
    "plt.tight_layout()\n",
    "plt.show()\n"
   ]
  },
  {
   "cell_type": "markdown",
   "id": "b68e8c86",
   "metadata": {},
   "source": [
    "# Using SVM"
   ]
  },
  {
   "cell_type": "code",
   "execution_count": 29,
   "id": "f55d4d7d",
   "metadata": {
    "execution": {
     "iopub.execute_input": "2023-10-30T09:29:44.383536Z",
     "iopub.status.busy": "2023-10-30T09:29:44.383177Z",
     "iopub.status.idle": "2023-10-30T09:29:49.768347Z",
     "shell.execute_reply": "2023-10-30T09:29:49.767254Z"
    },
    "papermill": {
     "duration": 5.405813,
     "end_time": "2023-10-30T09:29:49.771102",
     "exception": false,
     "start_time": "2023-10-30T09:29:44.365289",
     "status": "completed"
    },
    "tags": []
   },
   "outputs": [
    {
     "name": "stdout",
     "output_type": "stream",
     "text": [
      "Best parameter: {'C': 10, 'gamma': 'scale', 'kernel': 'linear'}\n",
      "Best accuracy: 0.9709595959595959\n"
     ]
    }
   ],
   "source": [
    "# Define the values of hyperparameters to be optimized\n",
    "param_grid = {\n",
    "    'C': [0.1, 1, 10],\n",
    "    'kernel': ['linear', 'rbf', 'poly'],\n",
    "    'gamma': ['scale', 'auto', 0.1, 1],\n",
    "}\n",
    "\n",
    "# Initialize the SVM model\n",
    "svm_model = SVC()\n",
    "\n",
    "# Use Grid Search to find the optimal hyperparameters\n",
    "grid_search = GridSearchCV(svm_model, param_grid, cv=5, n_jobs=-1)\n",
    "grid_search.fit(X_train, y_train)\n",
    "\n",
    "# Get the best hyperparameters\n",
    "best_params = grid_search.best_params_\n",
    "\n",
    "# Use the best hyperparameters to train the model\n",
    "best_svm_model = SVC(**best_params)\n",
    "best_svm_model.fit(X_train, y_train)\n",
    "\n",
    "# Make predictions on the test data\n",
    "y_pred_svm = best_svm_model.predict(X_test)\n",
    "\n",
    "# Evaluate the model\n",
    "accuracy_svm = accuracy_score(y_test, y_pred_svm)\n",
    "\n",
    "# Print the best hyperparameters and corresponding accuracy\n",
    "print(\"Best parameter:\", best_params)\n",
    "print(\"Best accuracy:\", accuracy_svm)\n"
   ]
  },
  {
   "cell_type": "code",
   "execution_count": null,
   "id": "0dfcb214",
   "metadata": {},
   "outputs": [],
   "source": []
  }
 ],
 "metadata": {
  "kernelspec": {
   "display_name": "Python 3 (ipykernel)",
   "language": "python",
   "name": "python3"
  },
  "language_info": {
   "codemirror_mode": {
    "name": "ipython",
    "version": 3
   },
   "file_extension": ".py",
   "mimetype": "text/x-python",
   "name": "python",
   "nbconvert_exporter": "python",
   "pygments_lexer": "ipython3",
   "version": "3.11.5"
  },
  "papermill": {
   "default_parameters": {},
   "duration": 64.568181,
   "end_time": "2023-10-30T09:29:52.417068",
   "environment_variables": {},
   "exception": null,
   "input_path": "__notebook__.ipynb",
   "output_path": "__notebook__.ipynb",
   "parameters": {},
   "start_time": "2023-10-30T09:28:47.848887",
   "version": "2.4.0"
  }
 },
 "nbformat": 4,
 "nbformat_minor": 5
}
